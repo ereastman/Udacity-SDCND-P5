{
 "cells": [
  {
   "cell_type": "code",
   "execution_count": 1,
   "metadata": {
    "collapsed": false,
    "deletable": true,
    "editable": true
   },
   "outputs": [],
   "source": [
    "import numpy as np\n",
    "import cv2\n",
    "import matplotlib.pyplot as plt\n",
    "import matplotlib.image as mpimg\n",
    "import glob as glob\n",
    "\n",
    "plt.rcParams['figure.figsize'] = (20.0, 10.0)\n",
    "%matplotlib inline\n",
    "\n",
    "from utilities import loadImage, showImage, greyscale, normalize\n",
    "from skimage.feature import hog\n",
    "\n",
    "from sklearn.svm import LinearSVC\n",
    "from sklearn.model_selection import train_test_split\n",
    "from scipy.ndimage.measurements import label\n"
   ]
  },
  {
   "cell_type": "code",
   "execution_count": 2,
   "metadata": {
    "collapsed": false,
    "deletable": true,
    "editable": true
   },
   "outputs": [
    {
     "name": "stdout",
     "output_type": "stream",
     "text": [
      "8792\n",
      "8968\n"
     ]
    }
   ],
   "source": [
    "vehicle_filenames = glob.glob('train_images_vehicles/*/*.png')\n",
    "non_vehicle_filenames = glob.glob('train_images_non_vehicles/*/*.png')\n",
    "\n",
    "print(len(vehicle_filenames))\n",
    "print(len(non_vehicle_filenames))"
   ]
  },
  {
   "cell_type": "code",
   "execution_count": 3,
   "metadata": {
    "collapsed": true,
    "deletable": true,
    "editable": true
   },
   "outputs": [],
   "source": [
    "# utility functions\n",
    "\n",
    "def getHOGFeatures(img, orient, pix_per_cell, cell_per_block, vis=False, feature_vec=True):\n",
    "  # img: must be greyscale\n",
    "  # orient: number of orientation bins\n",
    "  # \n",
    "  if vis == True:\n",
    "    features, hog_image = hog(img, \n",
    "                              orientations=orient, \n",
    "                              pixels_per_cell=(pix_per_cell, pix_per_cell),\n",
    "                              cells_per_block=(cell_per_block, cell_per_block), \n",
    "                              transform_sqrt=False,\n",
    "                              visualise=True, \n",
    "                              feature_vector=False)\n",
    "    return features, hog_image\n",
    "  else:      \n",
    "    features = hog(img, \n",
    "                   orientations=orient, \n",
    "                   pixels_per_cell=(pix_per_cell, pix_per_cell),\n",
    "                   cells_per_block=(cell_per_block, cell_per_block), \n",
    "                   transform_sqrt=False, \n",
    "                   visualise=False, \n",
    "                   feature_vector=feature_vec)\n",
    "    return normalize(features)\n",
    "  \n",
    "def getColorHistogram(imgs, nbins=32, channels=[], bins_range=[0, 256]):\n",
    "  # we use opencv's histogram calculator bc it is ~40x faster (according to opencv's tutorial)\n",
    "  # imgs, channels, histSize, ranges must be lists i.e. [...]\n",
    "  tbr = []\n",
    "  for c in channels:\n",
    "    hist = cv2.calcHist(images = imgs,channels=[c],mask=None,histSize=nbins,ranges=bins_range)\n",
    "    tbr.append(normalize(hist))\n",
    "  return np.reshape(np.concatenate(tbr), (-1))\n",
    "\n",
    "def spatialBinning(img, color_space='RGB', size=(32, 32)):\n",
    "  # img: should be RGB if color_space is not RGB\n",
    "  # Convert image to new color space if specified\n",
    "  if color_space != 'RGB':\n",
    "    if color_space == 'HSV':\n",
    "      feature_image = cv2.cvtColor(img, cv2.COLOR_RGB2HSV)\n",
    "    elif color_space == 'LUV':\n",
    "      feature_image = cv2.cvtColor(img, cv2.COLOR_RGB2LUV)\n",
    "    elif color_space == 'HLS':\n",
    "      feature_image = cv2.cvtColor(img, cv2.COLOR_RGB2HLS)\n",
    "    elif color_space == 'YUV':\n",
    "      feature_image = cv2.cvtColor(img, cv2.COLOR_RGB2YUV)\n",
    "    elif color_space == 'YCrCb':\n",
    "      feature_image = cv2.cvtColor(img, cv2.COLOR_RGB2YCrCb)\n",
    "  else: feature_image = np.copy(img)             \n",
    "  # Use cv2.resize().ravel() to create the feature vector\n",
    "  features = cv2.resize(feature_image, size).ravel() \n",
    "  # Return the feature vector\n",
    "  return features"
   ]
  },
  {
   "cell_type": "code",
   "execution_count": 4,
   "metadata": {
    "collapsed": false
   },
   "outputs": [
    {
     "name": "stdout",
     "output_type": "stream",
     "text": [
      "hog:  (576,)\n",
      "  mean:  2.69845874041e-17\n",
      "  std:  1.0\n",
      "  min, max:  -0.705657803146 5.16052208497\n",
      "hist:  (96,)\n",
      "  mean:  -4.96705e-09\n",
      "  std:  1.0\n",
      "  min, max:  -0.505709 4.07728\n",
      "(672,)\n"
     ]
    }
   ],
   "source": [
    "def imagePipeline(img, print_stats=False):\n",
    "  \n",
    "  do_hog = True\n",
    "  do_color_hist = True\n",
    "  do_spatial = False\n",
    "  \n",
    "  features = []\n",
    "  \n",
    "  if do_hog == True:\n",
    "    g_im = greyscale(im)\n",
    "    num_orient_bins = 9\n",
    "    pix_per_cell = 8\n",
    "    cell_per_block = 1\n",
    "    hog_features = getHOGFeatures(img=g_im, \n",
    "                                  orient=num_orient_bins, \n",
    "                                  pix_per_cell=pix_per_cell, \n",
    "                                  cell_per_block=cell_per_block, \n",
    "                                  vis=False, \n",
    "                                  feature_vec=True)\n",
    "    if print_stats == True:\n",
    "      print('hog: ', hog_features.shape)\n",
    "      print('  mean: ', np.mean(hog_features))\n",
    "      print('  std: ', np.std(hog_features))\n",
    "      print('  min, max: ', np.min(hog_features), np.max(hog_features))\n",
    "    features.append(hog_features)\n",
    "    \n",
    "  if do_color_hist == True:\n",
    "    nbins = [32]\n",
    "    channels = [0, 1, 2]\n",
    "    b_range = [0, 256]\n",
    "    hist_features = getColorHistogram(imgs=[img], \n",
    "                                      nbins=nbins, \n",
    "                                      channels=channels, \n",
    "                                      bins_range=b_range)\n",
    "    if print_stats == True:\n",
    "      print('hist: ', hist_features.shape)\n",
    "      print('  mean: ', np.mean(hist_features))\n",
    "      print('  std: ', np.std(hist_features))\n",
    "      print('  min, max: ', np.min(hist_features), np.max(hist_features))\n",
    "    features.append(hist_features)\n",
    "\n",
    "  if do_spatial == True:\n",
    "    new_size = (32, 32)\n",
    "    c_space = 'RGB'\n",
    "    bin_features = spatialBinning(img=img, \n",
    "                                  color_space=c_space,\n",
    "                                  size=new_size)\n",
    "    if print_stats == True:\n",
    "      print('bin: ', bin_features.shape)\n",
    "      print('  mean: ', np.mean(bin_features))\n",
    "      print('  std: ', np.std(bin_features))\n",
    "      print('  min, max: ', np.min(bin_features), np.max(bin_features))\n",
    "    features.append(normalize(bin_features))\n",
    "  \n",
    "  tbr = np.concatenate(features)\n",
    "  return tbr\n",
    "\n",
    "# Generate a random index to look at a car image\n",
    "ind = np.random.randint(0, len(vehicle_filenames))\n",
    "# Read in the image\n",
    "im, im_shape = loadImage(vehicle_filenames[ind], greyscale=False)\n",
    "\n",
    "test_f = imagePipeline(im, print_stats=True)\n",
    "print(test_f.shape)"
   ]
  },
  {
   "cell_type": "code",
   "execution_count": 5,
   "metadata": {
    "collapsed": false,
    "scrolled": false
   },
   "outputs": [],
   "source": [
    "def extractFeatures(filenames):\n",
    "  f_list = []\n",
    "  for fname in filenames:\n",
    "    img, im_size = loadImage(fname)\n",
    "    features = imagePipeline(img)\n",
    "    f_list.append(features)\n",
    "  return np.array(f_list)\n",
    "\n",
    "train_features_vehicles = extractFeatures(vehicle_filenames)\n",
    "train_features_non_vehicles = extractFeatures(non_vehicle_filenames)"
   ]
  },
  {
   "cell_type": "code",
   "execution_count": 6,
   "metadata": {
    "collapsed": false
   },
   "outputs": [
    {
     "data": {
      "text/plain": [
       "<Container object of 672 artists>"
      ]
     },
     "execution_count": 6,
     "metadata": {},
     "output_type": "execute_result"
    },
    {
     "data": {
      "image/png": "[encoded data removed]",
      "text/plain": [
       "<matplotlib.figure.Figure at 0x7f5920b93f98>"
      ]
     },
     "metadata": {},
     "output_type": "display_data"
    },
    {
     "data": {
      "image/png": "[encoded data removed]",
      "text/plain": [
       "<matplotlib.figure.Figure at 0x7f591ed6f908>"
      ]
     },
     "metadata": {},
     "output_type": "display_data"
    }
   ],
   "source": [
    "# Make sure features aren't dominating eachother\n",
    "# Interesting that the color peaks on vehicle features are significantly higher (more primary colors? Higher brightness?)\n",
    "vehicle_feature_avgs = np.sum(train_features_vehicles, axis=0) / len(train_features_vehicles)\n",
    "non_vehicle_feature_avgs = np.sum(train_features_non_vehicles, axis=0) / len(train_features_vehicles)\n",
    "\n",
    "ind=np.arange(0, len(vehicle_feature_avgs))\n",
    "f = plt.figure(1)\n",
    "plt.bar(ind, vehicle_feature_avgs, color='blue')\n",
    "f = plt.figure(2)\n",
    "plt.bar(ind, non_vehicle_feature_avgs, color='red')\n"
   ]
  },
  {
   "cell_type": "code",
   "execution_count": 8,
   "metadata": {
    "collapsed": false
   },
   "outputs": [
    {
     "name": "stdout",
     "output_type": "stream",
     "text": [
      "(8792, 672)\n",
      "(8792,)\n",
      "(8968, 672)\n",
      "(8968,)\n",
      "\n",
      "\n",
      "(17760, 672)\n",
      "(17760,)\n",
      "\n",
      "\n",
      "(14208, 672)\n",
      "(14208,)\n",
      "(3552, 672)\n",
      "(3552,)\n"
     ]
    }
   ],
   "source": [
    "vehicle_labels = np.ones((len(train_features_vehicles)))\n",
    "non_vehicle_labels = np.zeros((len(train_features_non_vehicles)))\n",
    "\n",
    "print(train_features_vehicles.shape)\n",
    "print(vehicle_labels.shape)\n",
    "print(train_features_non_vehicles.shape)\n",
    "print(non_vehicle_labels.shape)\n",
    "print('\\n')\n",
    "X_data = np.concatenate([train_features_vehicles, train_features_non_vehicles])\n",
    "y_data = np.concatenate([vehicle_labels, non_vehicle_labels])\n",
    "print(X_data.shape)\n",
    "print(y_data.shape)\n",
    "print('\\n')\n",
    "\n",
    "X_train, X_test, y_train, y_test = train_test_split(X_data, y_data, test_size=0.2, random_state=42)\n",
    "\n",
    "print(X_train.shape)\n",
    "print(y_train.shape)\n",
    "print(X_test.shape)\n",
    "print(y_test.shape)"
   ]
  },
  {
   "cell_type": "code",
   "execution_count": 10,
   "metadata": {
    "collapsed": false
   },
   "outputs": [
    {
     "name": "stdout",
     "output_type": "stream",
     "text": [
      "11.9719 Seconds to train SVC...\n",
      "Test Accuracy of SVC =  0.94679054\n"
     ]
    }
   ],
   "source": [
    "import time\n",
    "# Use a linear SVC \n",
    "svc = LinearSVC()\n",
    "\n",
    "# Check the training time for the SVC\n",
    "t1=time.time()\n",
    "svc.fit(X_train, y_train)\n",
    "t2 = time.time()\n",
    "training_time = round(t2-t1, 4)\n",
    "print(training_time, 'Seconds to train SVC...')\n",
    "# Check the score of the SVC\n",
    "svc_score = round(svc.score(X_test, y_test), 8)\n",
    "print('Test Accuracy of SVC = ', svc_score)\n",
    "# Check the pre"
   ]
  },
  {
   "cell_type": "code",
   "execution_count": null,
   "metadata": {
    "collapsed": true
   },
   "outputs": [],
   "source": []
  }
 ],
 "metadata": {
  "kernelspec": {
   "display_name": "Python 3",
   "language": "python",
   "name": "python3"
  },
  "language_info": {
   "codemirror_mode": {
    "name": "ipython",
    "version": 3
   },
   "file_extension": ".py",
   "mimetype": "text/x-python",
   "name": "python",
   "nbconvert_exporter": "python",
   "pygments_lexer": "ipython3",
   "version": "3.5.2"
  },
  "widgets": {
   "state": {},
   "version": "1.1.2"
  }
 },
 "nbformat": 4,
 "nbformat_minor": 2
}
